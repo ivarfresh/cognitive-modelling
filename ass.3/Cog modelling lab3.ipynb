{
 "cells": [
  {
   "cell_type": "code",
   "execution_count": 13,
   "id": "eb64ae4d",
   "metadata": {},
   "outputs": [],
   "source": [
    "def bayesFunction(P_H, P_D_H, P_D_not_H):\n",
    "    P_not_H = 1 - P_H\n",
    "    P_D = (P_D_H * P_H) + (P_D_not_H * P_not_H)\n",
    "    P_H_D = (P_H*P_D_H)/P_D\n",
    "    return P_H_D\n",
    "\n",
    "# -->\n",
    "#P(!H) = 1 - P(H)\n",
    "#P(D) = P(D)+P(H) + P(D)+ P(!H)\n",
    "#P(D) = (P(D|H)*P(H)) + (P(D|!H) * P(!H))\n",
    "#P_D = (P_D_H * P_H) + (P_D_not_H * P_not_H)"
   ]
  },
  {
   "cell_type": "code",
   "execution_count": 19,
   "id": "8e572bee",
   "metadata": {},
   "outputs": [
    {
     "data": {
      "text/plain": [
       "0.25"
      ]
     },
     "execution_count": 19,
     "metadata": {},
     "output_type": "execute_result"
    }
   ],
   "source": [
    "bayesFunction(0.1, 0.9, 0.3)"
   ]
  },
  {
   "cell_type": "code",
   "execution_count": 20,
   "id": "30f5efaf",
   "metadata": {},
   "outputs": [
    {
     "data": {
      "text/plain": [
       "0.9642857142857143"
      ]
     },
     "execution_count": 20,
     "metadata": {},
     "output_type": "execute_result"
    }
   ],
   "source": [
    "bayesFunction(0.9, 0.9, 0.3)"
   ]
  },
  {
   "cell_type": "code",
   "execution_count": 21,
   "id": "9fbf8365",
   "metadata": {},
   "outputs": [
    {
     "data": {
      "text/plain": [
       "0.7500000000000001"
      ]
     },
     "execution_count": 21,
     "metadata": {},
     "output_type": "execute_result"
    }
   ],
   "source": [
    "bayesFunction(0.9, 0.3, 0.9)"
   ]
  },
  {
   "cell_type": "code",
   "execution_count": 22,
   "id": "73d25d08",
   "metadata": {},
   "outputs": [
    {
     "data": {
      "text/plain": [
       "0.047210300429184546"
      ]
     },
     "execution_count": 22,
     "metadata": {},
     "output_type": "execute_result"
    }
   ],
   "source": [
    "bayesFunction(0.001, 0.99, 0.02)"
   ]
  },
  {
   "cell_type": "code",
   "execution_count": 24,
   "id": "511b9417",
   "metadata": {},
   "outputs": [
    {
     "data": {
      "text/plain": [
       "0.3"
      ]
     },
     "execution_count": 24,
     "metadata": {},
     "output_type": "execute_result"
    }
   ],
   "source": [
    "bayesFunction(0.3, 0.5, 0.5)"
   ]
  },
  {
   "cell_type": "markdown",
   "id": "a4cf19be",
   "metadata": {},
   "source": [
    "**Self-check 1.3: conceptual**\n",
    "In the above examples, the posterior is sometimes higher, lower, or equal to the prior. Do you understand conceptually why this is?\n",
    "\n",
    "**Answer**\n",
    "posterior probability is P(H|E) (or here P(H|D)): the probability that the hypothesis is true given that the evidence is true. The prior probability P(H) is the probability that the hypothesis is true without/before seeing the evidence. \n",
    "\n",
    "1: P(H|D) = 0.25, P(H) = 0.1\n",
    "2: P(H|D) = 0.9, P(H) = 0.96\n",
    "3: P(H|D) = 0.9, P(H) = 0.75\n",
    "4: P(H|D) = 0.001, P(H) = 0.047\n",
    "4: P(H|D) = 0.3, P(H) = 0.3\n",
    "\n",
    "#weet niet zeker"
   ]
  },
  {
   "cell_type": "markdown",
   "id": "cf87fe01",
   "metadata": {},
   "source": [
    "1.2\n",
    "Je wilt een functie die voor meerdere hypothesen (onbepaalde hoeveelheid) de kans kan berekenen dat deze kloppen. \n",
    "P(H) --> priors (priors is een lijst met meerdere P(H) waarden)\n",
    "P(D|H) --> cond_prob (= een lijst met meerdere P(D|H) waarden)"
   ]
  },
  {
   "cell_type": "code",
   "execution_count": 102,
   "id": "eeed5d0f",
   "metadata": {},
   "outputs": [],
   "source": [
    "import numpy as np\n",
    "\n",
    "def bayesFunctionMultipleHypotheses(priors, likelihoods):  #prior = P_H, likelihoods = P_D_H\n",
    "    #make vectors of input tupples\n",
    "    priors_array = np.array(priors)\n",
    "    likelihoods_array = np.array(likelihoods)\n",
    "    # Calculate the unnormalized posterior probabilities (the top-part of division)\n",
    "    if priors_array.size == likelihoods_array.size:\n",
    "        unnormalized_posterior = np.multiply(priors_array, likelihoods_array)\n",
    "    elif len(priors_array) < len(likelihoods_array):\n",
    "    \n",
    "    #calculate difference lenght\n",
    "        difference = len(likelihoods_array) - len(priors_array)\n",
    "        #print()\n",
    "        #print(f'The likelihood array is {difference} element bigger than the priors array. '\\\n",
    "        #'Therefore, we drop the last element of the likelihood array before multiplying the arrays.')\n",
    "        #print()\n",
    "        \n",
    "        likelihoods_array = np.delete(likelihoods_array, -1)\n",
    "        unnormalized_posterior = np.multiply(priors_array, likelihoods_array)\n",
    "    \n",
    "    # Calculate the normalizing constant\n",
    "    normalizing_constant = np.sum(unnormalized_posterior) #P_D summed\n",
    "    # Calculate the posterior probability for each hypothesis\n",
    "    posterior = unnormalized_posterior / normalizing_constant\n",
    "    \n",
    "    print(f'{priors},{likelihoods} --> P(H1|D) = {round(posterior[0],3)}')\n",
    "    #print(f'{priors},{likelihoods} --> P(H1|D) = {posterior}') #use for the first self-check \n",
    "    \n",
    "    #return round(posterior[0],3)\n",
    "    \n",
    "    \n",
    "# The first self-check is not correct, do you know why? And does this matter?"
   ]
  },
  {
   "cell_type": "code",
   "execution_count": 103,
   "id": "09ef3ec2",
   "metadata": {},
   "outputs": [
    {
     "ename": "IndexError",
     "evalue": "invalid index to scalar variable.",
     "output_type": "error",
     "traceback": [
      "\u001b[0;31m---------------------------------------------------------------------------\u001b[0m",
      "\u001b[0;31mIndexError\u001b[0m                                Traceback (most recent call last)",
      "\u001b[0;32m/var/folders/z3/bds0d3sn1qg70hjdr6y7_kdm0000gp/T/ipykernel_78847/787089192.py\u001b[0m in \u001b[0;36m<module>\u001b[0;34m\u001b[0m\n\u001b[0;32m----> 1\u001b[0;31m \u001b[0mbayesFunctionMultipleHypotheses\u001b[0m\u001b[0;34m(\u001b[0m\u001b[0;36m0.1\u001b[0m\u001b[0;34m,\u001b[0m \u001b[0;36m0.9\u001b[0m\u001b[0;34m)\u001b[0m\u001b[0;34m\u001b[0m\u001b[0;34m\u001b[0m\u001b[0m\n\u001b[0m\u001b[1;32m      2\u001b[0m \u001b[0mbayesFunctionMultipleHypotheses\u001b[0m\u001b[0;34m(\u001b[0m\u001b[0;36m0.9\u001b[0m\u001b[0;34m,\u001b[0m \u001b[0;36m0.9\u001b[0m\u001b[0;34m)\u001b[0m\u001b[0;34m\u001b[0m\u001b[0;34m\u001b[0m\u001b[0m\n\u001b[1;32m      3\u001b[0m \u001b[0mbayesFunctionMultipleHypotheses\u001b[0m\u001b[0;34m(\u001b[0m\u001b[0;36m0.9\u001b[0m\u001b[0;34m,\u001b[0m \u001b[0;36m0.3\u001b[0m\u001b[0;34m)\u001b[0m\u001b[0;34m\u001b[0m\u001b[0;34m\u001b[0m\u001b[0m\n\u001b[1;32m      4\u001b[0m \u001b[0mbayesFunctionMultipleHypotheses\u001b[0m\u001b[0;34m(\u001b[0m\u001b[0;36m0.001\u001b[0m\u001b[0;34m,\u001b[0m \u001b[0;36m0.99\u001b[0m\u001b[0;34m)\u001b[0m\u001b[0;34m\u001b[0m\u001b[0;34m\u001b[0m\u001b[0m\n\u001b[1;32m      5\u001b[0m \u001b[0mbayesFunctionMultipleHypotheses\u001b[0m\u001b[0;34m(\u001b[0m\u001b[0;36m0.3\u001b[0m\u001b[0;34m,\u001b[0m \u001b[0;36m0.5\u001b[0m\u001b[0;34m)\u001b[0m\u001b[0;34m\u001b[0m\u001b[0;34m\u001b[0m\u001b[0m\n",
      "\u001b[0;32m/var/folders/z3/bds0d3sn1qg70hjdr6y7_kdm0000gp/T/ipykernel_78847/2503459554.py\u001b[0m in \u001b[0;36mbayesFunctionMultipleHypotheses\u001b[0;34m(priors, likelihoods)\u001b[0m\n\u001b[1;32m     24\u001b[0m     \u001b[0mposterior\u001b[0m \u001b[0;34m=\u001b[0m \u001b[0munnormalized_posterior\u001b[0m \u001b[0;34m/\u001b[0m \u001b[0mnormalizing_constant\u001b[0m\u001b[0;34m\u001b[0m\u001b[0;34m\u001b[0m\u001b[0m\n\u001b[1;32m     25\u001b[0m \u001b[0;34m\u001b[0m\u001b[0m\n\u001b[0;32m---> 26\u001b[0;31m     \u001b[0mprint\u001b[0m\u001b[0;34m(\u001b[0m\u001b[0;34mf'{priors},{likelihoods} --> P(H1|D) = {round(posterior[0],3)}'\u001b[0m\u001b[0;34m)\u001b[0m\u001b[0;34m\u001b[0m\u001b[0;34m\u001b[0m\u001b[0m\n\u001b[0m\u001b[1;32m     27\u001b[0m     \u001b[0;31m#return round(posterior[0],3)\u001b[0m\u001b[0;34m\u001b[0m\u001b[0;34m\u001b[0m\u001b[0;34m\u001b[0m\u001b[0m\n",
      "\u001b[0;31mIndexError\u001b[0m: invalid index to scalar variable."
     ]
    }
   ],
   "source": [
    "bayesFunctionMultipleHypotheses(0.1, 0.9)\n",
    "bayesFunctionMultipleHypotheses(0.9, 0.9)\n",
    "bayesFunctionMultipleHypotheses(0.9, 0.3)\n",
    "bayesFunctionMultipleHypotheses(0.001, 0.99)\n",
    "bayesFunctionMultipleHypotheses(0.3, 0.5)"
   ]
  },
  {
   "cell_type": "code",
   "execution_count": 104,
   "id": "de8ef0e0",
   "metadata": {},
   "outputs": [
    {
     "name": "stdout",
     "output_type": "stream",
     "text": [
      "(0.4, 0.3, 0.3),(0.99, 0.9, 0.2) --> P(H1|D) = 0.545\n",
      "(0.4, 0.3, 0.3),(0.9, 0.9, 0.2) --> P(H1|D) = 0.522\n",
      "(0.3, 0.3, 0.4),(0.9, 0.9, 0.2) --> P(H1|D) = 0.435\n",
      "(0.3, 0.3, 0.4),(0.9, 0.2, 0.2) --> P(H1|D) = 0.659\n",
      "(0.4, 0.2, 0.2, 0.2),(0.9, 0.3, 0.3, 0.3, 0.3) --> P(H1|D) = 0.667\n",
      "(0.4, 0.2, 0.2, 0.2),(0.9, 0.6, 0.3, 0.3, 0.3) --> P(H1|D) = 0.6\n",
      "(0.01, 0.2, 0.2, 0.2),(0.99, 0.01, 0.01, 0.01) --> P(H1|D) = 0.623\n"
     ]
    }
   ],
   "source": [
    "bayesFunctionMultipleHypotheses((0.4, 0.3, 0.3), (0.99, 0.9, 0.2))\n",
    "bayesFunctionMultipleHypotheses((0.4, 0.3, 0.3), (0.9, 0.9, 0.2))\n",
    "bayesFunctionMultipleHypotheses((0.3, 0.3, 0.4), (0.9, 0.9, 0.2))\n",
    "bayesFunctionMultipleHypotheses((0.3, 0.3, 0.4), (0.9, 0.2, 0.2))\n",
    "bayesFunctionMultipleHypotheses((0.4, 0.2, 0.2, 0.2), (0.9, 0.3, 0.3, 0.3, 0.3))\n",
    "bayesFunctionMultipleHypotheses((0.4, 0.2, 0.2, 0.2), (0.9, 0.6, 0.3, 0.3, 0.3))\n",
    "bayesFunctionMultipleHypotheses((0.01, 0.2, 0.2, 0.2), (0.99, 0.01, 0.01, 0.01))"
   ]
  },
  {
   "cell_type": "code",
   "execution_count": null,
   "id": "857b89d7",
   "metadata": {},
   "outputs": [],
   "source": []
  }
 ],
 "metadata": {
  "kernelspec": {
   "display_name": "Python 3 (ipykernel)",
   "language": "python",
   "name": "python3"
  },
  "language_info": {
   "codemirror_mode": {
    "name": "ipython",
    "version": 3
   },
   "file_extension": ".py",
   "mimetype": "text/x-python",
   "name": "python",
   "nbconvert_exporter": "python",
   "pygments_lexer": "ipython3",
   "version": "3.7.13"
  }
 },
 "nbformat": 4,
 "nbformat_minor": 5
}
