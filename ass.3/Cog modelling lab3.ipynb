{
 "cells": [
  {
   "cell_type": "code",
   "execution_count": 69,
   "id": "eb64ae4d",
   "metadata": {},
   "outputs": [],
   "source": [
    "def bayesFunction(P_H, P_D_H, P_D_not_H):\n",
    "    P_not_H = 1 - P_H\n",
    "    P_D = (P_D_H * P_H) + (P_D_not_H * P_not_H)\n",
    "    print(f'P_D:{P_D}')\n",
    "    P_H_D = (P_H*P_D_H)/P_D\n",
    "    return P_H_D\n",
    "\n",
    "# -->\n",
    "#P(!H) = 1 - P(H)\n",
    "#P(D) = P(D)+P(H) + P(D)+ P(!H)\n",
    "#P(D) = (P(D|H)*P(H)) + (P(D|!H) * P(!H))\n",
    "#P_D = (P_D_H * P_H) + (P_D_not_H * P_not_H)"
   ]
  },
  {
   "cell_type": "code",
   "execution_count": 19,
   "id": "8e572bee",
   "metadata": {},
   "outputs": [
    {
     "data": {
      "text/plain": [
       "0.25"
      ]
     },
     "execution_count": 19,
     "metadata": {},
     "output_type": "execute_result"
    }
   ],
   "source": [
    "bayesFunction(0.1, 0.9, 0.3)"
   ]
  },
  {
   "cell_type": "code",
   "execution_count": 20,
   "id": "30f5efaf",
   "metadata": {},
   "outputs": [
    {
     "data": {
      "text/plain": [
       "0.9642857142857143"
      ]
     },
     "execution_count": 20,
     "metadata": {},
     "output_type": "execute_result"
    }
   ],
   "source": [
    "bayesFunction(0.9, 0.9, 0.3)"
   ]
  },
  {
   "cell_type": "code",
   "execution_count": 21,
   "id": "9fbf8365",
   "metadata": {},
   "outputs": [
    {
     "data": {
      "text/plain": [
       "0.7500000000000001"
      ]
     },
     "execution_count": 21,
     "metadata": {},
     "output_type": "execute_result"
    }
   ],
   "source": [
    "bayesFunction(0.9, 0.3, 0.9)"
   ]
  },
  {
   "cell_type": "code",
   "execution_count": 22,
   "id": "73d25d08",
   "metadata": {},
   "outputs": [
    {
     "data": {
      "text/plain": [
       "0.047210300429184546"
      ]
     },
     "execution_count": 22,
     "metadata": {},
     "output_type": "execute_result"
    }
   ],
   "source": [
    "bayesFunction(0.001, 0.99, 0.02)"
   ]
  },
  {
   "cell_type": "code",
   "execution_count": 24,
   "id": "511b9417",
   "metadata": {},
   "outputs": [
    {
     "data": {
      "text/plain": [
       "0.3"
      ]
     },
     "execution_count": 24,
     "metadata": {},
     "output_type": "execute_result"
    }
   ],
   "source": [
    "bayesFunction(0.3, 0.5, 0.5)"
   ]
  },
  {
   "cell_type": "code",
   "execution_count": 70,
   "id": "4b35c09c",
   "metadata": {},
   "outputs": [
    {
     "name": "stdout",
     "output_type": "stream",
     "text": [
      "P_D:0.5255000000000001\n"
     ]
    },
    {
     "data": {
      "text/plain": [
       "0.5052331113225499"
      ]
     },
     "execution_count": 70,
     "metadata": {},
     "output_type": "execute_result"
    }
   ],
   "source": [
    "bayesFunction(0.5, 0.531, 0.52) #Question 1.A"
   ]
  },
  {
   "cell_type": "code",
   "execution_count": 105,
   "id": "cf4ee4c0",
   "metadata": {},
   "outputs": [
    {
     "name": "stdout",
     "output_type": "stream",
     "text": [
      "P_D:0.49524357754519505\n"
     ]
    },
    {
     "data": {
      "text/plain": [
       "0.48050051777037883"
      ]
     },
     "execution_count": 105,
     "metadata": {},
     "output_type": "execute_result"
    }
   ],
   "source": [
    "bayesFunction(0.5052331113225499, 0.471, 0.520) #Question 1.D.1"
   ]
  },
  {
   "cell_type": "code",
   "execution_count": 111,
   "id": "d12dfb9b",
   "metadata": {},
   "outputs": [
    {
     "name": "stdout",
     "output_type": "stream",
     "text": [
      "P_D:0.5736004176745098\n"
     ]
    },
    {
     "data": {
      "text/plain": [
       "0.4113068034046174"
      ]
     },
     "execution_count": 111,
     "metadata": {},
     "output_type": "execute_result"
    }
   ],
   "source": [
    "bayesFunction(0.48050051777037883, 0.491, 0.650) #Question 1.D.2"
   ]
  },
  {
   "cell_type": "code",
   "execution_count": 113,
   "id": "eff9dc23",
   "metadata": {},
   "outputs": [
    {
     "name": "stdout",
     "output_type": "stream",
     "text": [
      "P_D:0.6198549999999999\n"
     ]
    },
    {
     "data": {
      "text/plain": [
       "0.33484443942534947"
      ]
     },
     "execution_count": 113,
     "metadata": {},
     "output_type": "execute_result"
    }
   ],
   "source": [
    "bayesFunction(0.411, 0.505, 0.70) #Question 1.D.3"
   ]
  },
  {
   "cell_type": "code",
   "execution_count": 106,
   "id": "5eee72d5",
   "metadata": {},
   "outputs": [],
   "source": [
    "def not_H1(H1):\n",
    "    not_H1 = 1-H1\n",
    "    return not_H1"
   ]
  },
  {
   "cell_type": "code",
   "execution_count": 112,
   "id": "3606bb5d",
   "metadata": {},
   "outputs": [
    {
     "data": {
      "text/plain": [
       "0.589"
      ]
     },
     "execution_count": 112,
     "metadata": {},
     "output_type": "execute_result"
    }
   ],
   "source": [
    "not_H1(0.411)"
   ]
  },
  {
   "cell_type": "markdown",
   "id": "a4cf19be",
   "metadata": {},
   "source": [
    "**Self-check 1.3: conceptual**\n",
    "In the above examples, the posterior is sometimes higher, lower, or equal to the prior. Do you understand conceptually why this is?\n",
    "\n",
    "**Answer**\n",
    "\n",
    "The posterior P(H|D) is higher than the prior P(H) if the likelihood P(D|H) is higher than the likelihood of P(D|!H). The posterior is equal to the prior if the likelihood P(D|H) is equal to the likelihood of P(D|!H). The posterior is lower than the prior if the likelihood P(D|H) is smaller than the likelihood of P(D|!H).\n",
    "\n",
    "This makes sense. If the likelihood P(D|H) is higher than the likelihood of P(D|!H) it means that 'the probability of the data being true given that the hypothesis is true' is higher than 'the probability of the data being true given that the hypothesis is false'. So, in this case, under the hypothesis H the data is true. As such, the data also supports the hypothesis H, making the probability of H being true higher after seeing the evidence, than before seeing the evidence. The same line of reasoning holds for the other cases.\n",
    "\n",
    "#weet niet zeker"
   ]
  },
  {
   "cell_type": "code",
   "execution_count": null,
   "id": "940bca38",
   "metadata": {},
   "outputs": [],
   "source": []
  },
  {
   "cell_type": "markdown",
   "id": "cf87fe01",
   "metadata": {},
   "source": [
    "1.2\n",
    "Je wilt een functie die voor meerdere hypothesen (onbepaalde hoeveelheid) de kans kan berekenen dat deze kloppen. \n",
    "P(H) --> priors (priors is een lijst met meerdere P(H) waarden)\n",
    "P(D|H) --> cond_prob (= een lijst met meerdere P(D|H) waarden)"
   ]
  },
  {
   "cell_type": "code",
   "execution_count": 7,
   "id": "eeed5d0f",
   "metadata": {},
   "outputs": [],
   "source": [
    "import numpy as np\n",
    "\n",
    "def bayesFunctionMultipleHypotheses(priors, likelihoods):  #prior = P_H, likelihoods = P_D_H\n",
    "    #make vectors of input tupples\n",
    "    priors_array = np.array(priors)\n",
    "    likelihoods_array = np.array(likelihoods)\n",
    "    \n",
    "    # Calculate the unnormalized posterior probabilities (the top-part of division)\n",
    "    if priors_array.size == likelihoods_array.size:\n",
    "        unnormalized_posterior = np.multiply(priors_array, likelihoods_array)\n",
    "    \n",
    "    elif len(priors_array) < len(likelihoods_array):\n",
    "        #calculate difference lenght\n",
    "        difference = len(likelihoods_array) - len(priors_array)\n",
    "        #delete last element\n",
    "        likelihoods_array = np.delete(likelihoods_array, -1)\n",
    "        # calculate unnormalized posterior\n",
    "        unnormalized_posterior = np.multiply(priors_array, likelihoods_array)\n",
    "        #print()\n",
    "        #print(f'The likelihood array is {difference} element bigger than the priors array. '\\\n",
    "        #'Therefore, we drop the last element of the likelihood array before multiplying the arrays.')\n",
    "        #print()\n",
    "    \n",
    "    # Calculate the normalizing constant\n",
    "    normalizing_constant = np.sum(unnormalized_posterior) #P_D summed\n",
    "    # Calculate the posterior probability for each hypothesis\n",
    "    posterior = unnormalized_posterior / normalizing_constant\n",
    "    \n",
    "    print(f'{priors},{likelihoods} --> P(H1|D) = {round(posterior[0],3)}')\n",
    "    #return round(posterior[0],3)\n",
    "    \n",
    "    #print(f'{priors},{likelihoods} --> P(H1|D) = {posterior}') #use for the first self-check \n",
    "    #return posterior[0]\n",
    "    \n",
    "# The first self-check is not correct, do you know why? And does this matter?"
   ]
  },
  {
   "cell_type": "code",
   "execution_count": 8,
   "id": "09ef3ec2",
   "metadata": {},
   "outputs": [
    {
     "name": "stdout",
     "output_type": "stream",
     "text": [
      "(0.1, 0.9, 0.9, 0.001, 0.3),(0.9, 0.9, 0.3, 0.99, 0.5) --> P(H1|D) = 0.068\n"
     ]
    }
   ],
   "source": [
    "bayesFunctionMultipleHypotheses((0.1,0.9,0.9,0.001,0.3),(0.9,0.9,0.3,0.99,0.5)) #????"
   ]
  },
  {
   "cell_type": "code",
   "execution_count": 9,
   "id": "de8ef0e0",
   "metadata": {},
   "outputs": [
    {
     "name": "stdout",
     "output_type": "stream",
     "text": [
      "(0.4, 0.3, 0.3),(0.99, 0.9, 0.2) --> P(H1|D) = 0.545\n",
      "(0.4, 0.3, 0.3),(0.9, 0.9, 0.2) --> P(H1|D) = 0.522\n",
      "(0.3, 0.3, 0.4),(0.9, 0.9, 0.2) --> P(H1|D) = 0.435\n",
      "(0.3, 0.3, 0.4),(0.9, 0.2, 0.2) --> P(H1|D) = 0.659\n",
      "(0.4, 0.2, 0.2, 0.2),(0.9, 0.3, 0.3, 0.3, 0.3) --> P(H1|D) = 0.667\n",
      "(0.4, 0.2, 0.2, 0.2),(0.9, 0.6, 0.3, 0.3, 0.3) --> P(H1|D) = 0.6\n",
      "(0.01, 0.2, 0.2, 0.2),(0.99, 0.01, 0.01, 0.01) --> P(H1|D) = 0.623\n"
     ]
    }
   ],
   "source": [
    "bayesFunctionMultipleHypotheses((0.4, 0.3, 0.3), (0.99, 0.9, 0.2))\n",
    "bayesFunctionMultipleHypotheses((0.4, 0.3, 0.3), (0.9, 0.9, 0.2))\n",
    "bayesFunctionMultipleHypotheses((0.3, 0.3, 0.4), (0.9, 0.9, 0.2))\n",
    "bayesFunctionMultipleHypotheses((0.3, 0.3, 0.4), (0.9, 0.2, 0.2))\n",
    "bayesFunctionMultipleHypotheses((0.4, 0.2, 0.2, 0.2), (0.9, 0.3, 0.3, 0.3, 0.3))\n",
    "bayesFunctionMultipleHypotheses((0.4, 0.2, 0.2, 0.2), (0.9, 0.6, 0.3, 0.3, 0.3))\n",
    "bayesFunctionMultipleHypotheses((0.01, 0.2, 0.2, 0.2), (0.99, 0.01, 0.01, 0.01))"
   ]
  },
  {
   "cell_type": "markdown",
   "id": "1ee0663b",
   "metadata": {},
   "source": [
    "**Self test 1.4:**\n",
    "\n",
    "**Answer**\n",
    "If the cond probabilities and priors of the other hypotheses than H1 are lower, the probability of H1 being true gets higher. "
   ]
  },
  {
   "cell_type": "markdown",
   "id": "327c1b8b",
   "metadata": {},
   "source": [
    "# 1.3"
   ]
  },
  {
   "cell_type": "markdown",
   "id": "f3021a7f",
   "metadata": {},
   "source": [
    "**Self-check 1.5:**\n",
    "\n",
    "For an experiment the posterior odds of P(H1) / P(H2) are 3, the prior odds are 2. What is the BF1,2 and what is the BF2,1?\n",
    "\n",
    "**Answer**\n",
    "- BF1,2 = 1.5\n",
    "- BF2,1 = \n",
    "\n",
    "Going by Jeffreys’ heuristic, what type of evidence does the data deliver for the hypotheses?\n",
    "\n",
    "**Answer**\n",
    "- BF1,2 gives Anecdotal evidence for H1.\n",
    "\n",
    "\n",
    "\n"
   ]
  },
  {
   "cell_type": "code",
   "execution_count": 85,
   "id": "a442b77b",
   "metadata": {},
   "outputs": [],
   "source": [
    "def bayesFactor(priors, posteriors):\n",
    "    #make vectors of input tupples\n",
    "    #priors_array = np.array(priors)\n",
    "    #posteriors_array = np.array(posteriors)\n",
    "    print(f'priors:{priors}')\n",
    "    print(f'posteriors: {posteriors}')\n",
    "    #calculate prior odds: P(H)/P(!H)\n",
    "    prior_odds = [prior/(1-prior) for prior in priors]\n",
    "    print(f'prior_odds: {prior_odds}')\n",
    "    #calculate posterior odds: P(H|D)/P(H|!D)\n",
    "    posterior_odds = [posterior/(1-posterior) for posterior in posteriors]\n",
    "    print(f'posterior_odds: {posterior_odds}')\n",
    "    \n",
    "    prior_odds_array = np.array(prior_odds)\n",
    "    #print(f'prior_odds_array: {prior_odds_array}')\n",
    "\n",
    "    posterior_odds_array = np.array(posterior_odds)\n",
    "    #print(f'posterior_odds_array: {posterior_odds_array}')\n",
    "\n",
    "    #calculate Bayes Factor\n",
    "    BF_1_not1 = round((posterior_odds_array[0]/prior_odds_array[0]),3)\n",
    "    print(f'Bayes factor 1/not1: {BF_1_not1}')\n",
    "    #BF_2_not2 = (posterior_odds_array[1]/prior_odds_array[1])\n",
    "    #print(f'BF_2_not2: {BF_2_not2}')\n",
    "    #BF_3_not3 = (posterior_odds_array[2]/prior_odds_array[2])\n",
    "    #print(f'BF_3_not3: {BF_3_not3}')\n",
    "        \n",
    "    return BF_1_not1"
   ]
  },
  {
   "cell_type": "code",
   "execution_count": 86,
   "id": "6ab0f2fc",
   "metadata": {},
   "outputs": [
    {
     "name": "stdout",
     "output_type": "stream",
     "text": [
      "priors:(0.2, 0.6, 0.2)\n",
      "posteriors: (0.9, 0.05, 0.05)\n",
      "prior_odds: [0.25, 1.4999999999999998, 0.25]\n",
      "posterior_odds: [9.000000000000002, 0.052631578947368425, 0.052631578947368425]\n",
      "Bayes factor 1/not1: 36.0\n"
     ]
    },
    {
     "data": {
      "text/plain": [
       "36.0"
      ]
     },
     "execution_count": 86,
     "metadata": {},
     "output_type": "execute_result"
    }
   ],
   "source": [
    "bayesFactor((0.2,0.6,0.2), (0.9,0.05,0.05))"
   ]
  },
  {
   "cell_type": "code",
   "execution_count": 81,
   "id": "849623ca",
   "metadata": {},
   "outputs": [
    {
     "name": "stdout",
     "output_type": "stream",
     "text": [
      "priors:(0.2, 0.6, 0.2)\n",
      "posteriors: (0.85, 0.05, 0.1)\n",
      "prior_odds: [0.25, 1.4999999999999998, 0.25]\n",
      "posterior_odds: [5.666666666666666, 0.052631578947368425, 0.11111111111111112]\n",
      "Bayes factor 1/not1: 22.667\n"
     ]
    },
    {
     "data": {
      "text/plain": [
       "22.667"
      ]
     },
     "execution_count": 81,
     "metadata": {},
     "output_type": "execute_result"
    }
   ],
   "source": [
    "bayesFactor((0.2,0.6,0.2), (0.85,0.05,0.1))"
   ]
  },
  {
   "cell_type": "code",
   "execution_count": 82,
   "id": "ff8a1c38",
   "metadata": {},
   "outputs": [
    {
     "name": "stdout",
     "output_type": "stream",
     "text": [
      "priors:(0.4, 0.3, 0.3)\n",
      "posteriors: (0.15, 0.35, 0.5)\n",
      "prior_odds: [0.6666666666666667, 0.4285714285714286, 0.4285714285714286]\n",
      "posterior_odds: [0.17647058823529413, 0.5384615384615384, 1.0]\n",
      "Bayes factor 1/not1: 0.265\n"
     ]
    },
    {
     "data": {
      "text/plain": [
       "0.265"
      ]
     },
     "execution_count": 82,
     "metadata": {},
     "output_type": "execute_result"
    }
   ],
   "source": [
    "bayesFactor((0.4,0.3,0.3), (0.15,0.35,0.5))"
   ]
  },
  {
   "cell_type": "code",
   "execution_count": 83,
   "id": "3cb69e49",
   "metadata": {},
   "outputs": [
    {
     "name": "stdout",
     "output_type": "stream",
     "text": [
      "priors:(0.3, 0.4, 0.3)\n",
      "posteriors: (0.35, 0.15, 0.5)\n",
      "prior_odds: [0.4285714285714286, 0.6666666666666667, 0.4285714285714286]\n",
      "posterior_odds: [0.5384615384615384, 0.17647058823529413, 1.0]\n",
      "Bayes factor 1/not1: 1.256\n"
     ]
    },
    {
     "data": {
      "text/plain": [
       "1.256"
      ]
     },
     "execution_count": 83,
     "metadata": {},
     "output_type": "execute_result"
    }
   ],
   "source": [
    "bayesFactor((0.3,0.4,0.3), (0.35,0.15,0.5))"
   ]
  },
  {
   "cell_type": "code",
   "execution_count": 87,
   "id": "5109353b",
   "metadata": {},
   "outputs": [
    {
     "name": "stdout",
     "output_type": "stream",
     "text": [
      "priors:0.5\n",
      "posteriors: 0.5052331113225499\n"
     ]
    },
    {
     "ename": "TypeError",
     "evalue": "'float' object is not iterable",
     "output_type": "error",
     "traceback": [
      "\u001b[0;31m---------------------------------------------------------------------------\u001b[0m",
      "\u001b[0;31mTypeError\u001b[0m                                 Traceback (most recent call last)",
      "Input \u001b[0;32mIn [87]\u001b[0m, in \u001b[0;36m<cell line: 1>\u001b[0;34m()\u001b[0m\n\u001b[0;32m----> 1\u001b[0m \u001b[43mbayesFactor\u001b[49m\u001b[43m(\u001b[49m\u001b[43m(\u001b[49m\u001b[38;5;241;43m0.5\u001b[39;49m\u001b[43m)\u001b[49m\u001b[43m,\u001b[49m\u001b[43m \u001b[49m\u001b[43m(\u001b[49m\u001b[38;5;241;43m0.5052331113225499\u001b[39;49m\u001b[43m)\u001b[49m\u001b[43m)\u001b[49m\n",
      "Input \u001b[0;32mIn [85]\u001b[0m, in \u001b[0;36mbayesFactor\u001b[0;34m(priors, posteriors)\u001b[0m\n\u001b[1;32m      6\u001b[0m \u001b[38;5;28mprint\u001b[39m(\u001b[38;5;124mf\u001b[39m\u001b[38;5;124m'\u001b[39m\u001b[38;5;124mposteriors: \u001b[39m\u001b[38;5;132;01m{\u001b[39;00mposteriors\u001b[38;5;132;01m}\u001b[39;00m\u001b[38;5;124m'\u001b[39m)\n\u001b[1;32m      7\u001b[0m \u001b[38;5;66;03m#calculate prior odds: P(H)/P(!H)\u001b[39;00m\n\u001b[0;32m----> 8\u001b[0m prior_odds \u001b[38;5;241m=\u001b[39m [prior\u001b[38;5;241m/\u001b[39m(\u001b[38;5;241m1\u001b[39m\u001b[38;5;241m-\u001b[39mprior) \u001b[38;5;28;01mfor\u001b[39;00m prior \u001b[38;5;129;01min\u001b[39;00m priors]\n\u001b[1;32m      9\u001b[0m \u001b[38;5;28mprint\u001b[39m(\u001b[38;5;124mf\u001b[39m\u001b[38;5;124m'\u001b[39m\u001b[38;5;124mprior_odds: \u001b[39m\u001b[38;5;132;01m{\u001b[39;00mprior_odds\u001b[38;5;132;01m}\u001b[39;00m\u001b[38;5;124m'\u001b[39m)\n\u001b[1;32m     10\u001b[0m \u001b[38;5;66;03m#calculate posterior odds: P(H|D)/P(H|!D)\u001b[39;00m\n",
      "\u001b[0;31mTypeError\u001b[0m: 'float' object is not iterable"
     ]
    }
   ],
   "source": [
    "bayesFactor((0.5), (0.5052331113225499))"
   ]
  },
  {
   "cell_type": "code",
   "execution_count": 100,
   "id": "d96c53da",
   "metadata": {},
   "outputs": [],
   "source": [
    "def bayesFactor2(prior, posterior):  #bayes factor for single values instead of arrays\n",
    "    print(f'priors:{prior}')\n",
    "    print(f'posteriors: {posterior}')\n",
    "    \n",
    "    #calculate prior odds: P(H)/P(!H)\n",
    "    prior_odds = prior/(1-prior)\n",
    "    print(f'prior_odds: {prior_odds}')\n",
    "\n",
    "    #calculate posterior odds: P(H|D)/P(H|!D)\n",
    "    posterior_odds = posterior/(1-posterior)\n",
    "    print(f'posterior_odds: {posterior_odds}')\n",
    "\n",
    "    #make arrays for math\n",
    "    prior_odds_array = np.array(prior_odds)\n",
    "    #print(f'prior_odds_array: {prior_odds_array}')\n",
    "    posterior_odds_array = np.array(posterior_odds)\n",
    "    #print(f'posterior_odds_array: {posterior_odds_array}')\n",
    "\n",
    "    #calculate Bayes Factor\n",
    "    BF_1_not1 = round((posterior_odds/prior_odds),3)\n",
    "    print(f'Bayes factor 1/not1: {BF_1_not1}')\n",
    "    return BF_1_not1"
   ]
  },
  {
   "cell_type": "code",
   "execution_count": 101,
   "id": "3a613028",
   "metadata": {},
   "outputs": [
    {
     "name": "stdout",
     "output_type": "stream",
     "text": [
      "priors:0.5\n",
      "posteriors: 0.5052331113225499\n",
      "prior_odds: 1.0\n",
      "posterior_odds: 1.0211538461538459\n",
      "Bayes factor 1/not1: 1.021\n"
     ]
    },
    {
     "data": {
      "text/plain": [
       "1.021"
      ]
     },
     "execution_count": 101,
     "metadata": {},
     "output_type": "execute_result"
    }
   ],
   "source": [
    "bayesFactor2((0.5), (0.5052331113225499)) #question 1.B"
   ]
  },
  {
   "cell_type": "code",
   "execution_count": 102,
   "id": "ada4ff7d",
   "metadata": {},
   "outputs": [
    {
     "name": "stdout",
     "output_type": "stream",
     "text": [
      "priors:0.001\n",
      "posteriors: 0.5052331113225499\n",
      "prior_odds: 0.001001001001001001\n",
      "posterior_odds: 1.0211538461538459\n",
      "Bayes factor 1/not1: 1020.133\n"
     ]
    },
    {
     "data": {
      "text/plain": [
       "1020.133"
      ]
     },
     "execution_count": 102,
     "metadata": {},
     "output_type": "execute_result"
    }
   ],
   "source": [
    "bayesFactor2((0.001), (0.5052331113225499)) #1.C"
   ]
  },
  {
   "cell_type": "code",
   "execution_count": null,
   "id": "86530fa4",
   "metadata": {},
   "outputs": [],
   "source": []
  }
 ],
 "metadata": {
  "kernelspec": {
   "display_name": "Python 3 (ipykernel)",
   "language": "python",
   "name": "python3"
  },
  "language_info": {
   "codemirror_mode": {
    "name": "ipython",
    "version": 3
   },
   "file_extension": ".py",
   "mimetype": "text/x-python",
   "name": "python",
   "nbconvert_exporter": "python",
   "pygments_lexer": "ipython3",
   "version": "3.9.12"
  }
 },
 "nbformat": 4,
 "nbformat_minor": 5
}
